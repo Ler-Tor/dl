{
 "cells": [
  {
   "cell_type": "code",
   "execution_count": 125,
   "metadata": {},
   "outputs": [],
   "source": [
    "import re  # For preprocessing\n",
    "import pandas as pd  # For data handling\n",
    "from time import time  # To time our operations\n",
    "from collections import defaultdict  # For word frequency\n",
    "\n",
    "import spacy  # For preprocessing\n",
    "\n",
    "import logging  # Setting up the loggings to monitor gensim\n",
    "logging.basicConfig(format=\"%(levelname)s - %(asctime)s: %(message)s\", datefmt= '%H:%M:%S', level=logging.INFO)"
   ]
  },
  {
   "cell_type": "code",
   "execution_count": 126,
   "metadata": {},
   "outputs": [
    {
     "data": {
      "text/html": [
       "<div>\n",
       "<style scoped>\n",
       "    .dataframe tbody tr th:only-of-type {\n",
       "        vertical-align: middle;\n",
       "    }\n",
       "\n",
       "    .dataframe tbody tr th {\n",
       "        vertical-align: top;\n",
       "    }\n",
       "\n",
       "    .dataframe thead th {\n",
       "        text-align: right;\n",
       "    }\n",
       "</style>\n",
       "<table border=\"1\" class=\"dataframe\">\n",
       "  <thead>\n",
       "    <tr style=\"text-align: right;\">\n",
       "      <th></th>\n",
       "      <th>raw_character_text</th>\n",
       "      <th>spoken_words</th>\n",
       "    </tr>\n",
       "  </thead>\n",
       "  <tbody>\n",
       "    <tr>\n",
       "      <th>0</th>\n",
       "      <td>Miss Hoover</td>\n",
       "      <td>No, actually, it was a little of both. Sometim...</td>\n",
       "    </tr>\n",
       "    <tr>\n",
       "      <th>1</th>\n",
       "      <td>Lisa Simpson</td>\n",
       "      <td>Where's Mr. Bergstrom?</td>\n",
       "    </tr>\n",
       "    <tr>\n",
       "      <th>2</th>\n",
       "      <td>Miss Hoover</td>\n",
       "      <td>I don't know. Although I'd sure like to talk t...</td>\n",
       "    </tr>\n",
       "    <tr>\n",
       "      <th>3</th>\n",
       "      <td>Lisa Simpson</td>\n",
       "      <td>That life is worth living.</td>\n",
       "    </tr>\n",
       "    <tr>\n",
       "      <th>4</th>\n",
       "      <td>Edna Krabappel-Flanders</td>\n",
       "      <td>The polls will be open from now until the end ...</td>\n",
       "    </tr>\n",
       "  </tbody>\n",
       "</table>\n",
       "</div>"
      ],
      "text/plain": [
       "        raw_character_text                                       spoken_words\n",
       "0              Miss Hoover  No, actually, it was a little of both. Sometim...\n",
       "1             Lisa Simpson                             Where's Mr. Bergstrom?\n",
       "2              Miss Hoover  I don't know. Although I'd sure like to talk t...\n",
       "3             Lisa Simpson                         That life is worth living.\n",
       "4  Edna Krabappel-Flanders  The polls will be open from now until the end ..."
      ]
     },
     "execution_count": 126,
     "metadata": {},
     "output_type": "execute_result"
    }
   ],
   "source": [
    "df = pd.read_csv('simpsons_dataset.csv')\n",
    "df.shape\n",
    "df.head()"
   ]
  },
  {
   "cell_type": "code",
   "execution_count": 127,
   "metadata": {},
   "outputs": [
    {
     "data": {
      "text/plain": [
       "raw_character_text    17814\n",
       "spoken_words          26459\n",
       "dtype: int64"
      ]
     },
     "execution_count": 127,
     "metadata": {},
     "output_type": "execute_result"
    }
   ],
   "source": [
    "df.isnull().sum()"
   ]
  },
  {
   "cell_type": "code",
   "execution_count": 132,
   "metadata": {},
   "outputs": [
    {
     "data": {
      "text/plain": [
       "raw_character_text    0\n",
       "spoken_words          0\n",
       "dtype: int64"
      ]
     },
     "execution_count": 132,
     "metadata": {},
     "output_type": "execute_result"
    }
   ],
   "source": [
    "df = df.dropna().reset_index(drop=True)\n",
    "df.isnull().sum()"
   ]
  },
  {
   "cell_type": "code",
   "execution_count": 133,
   "metadata": {},
   "outputs": [],
   "source": [
    "nlp = spacy.load('en', disable=['ner', 'parser']) # disabling Named Entity Recognition for speed\n",
    "\n",
    "def cleaning(doc):\n",
    "    # Lemmatizes and removes stopwords\n",
    "    # doc needs to be a spacy Doc object\n",
    "    txt = [token.lemma_ for token in doc if not token.is_stop]\n",
    "    # Word2Vec uses context words to learn the vector representation of a target word,\n",
    "    # if a sentence is only one or two words long,\n",
    "    # the benefit for the training is very small\n",
    "    if len(txt) > 2:\n",
    "        return ' '.join(txt)"
   ]
  },
  {
   "cell_type": "code",
   "execution_count": 134,
   "metadata": {},
   "outputs": [],
   "source": [
    "brief_cleaning = (re.sub(\"[^A-Za-z']+\", ' ', str(row)).lower() for row in df['spoken_words'])"
   ]
  },
  {
   "cell_type": "code",
   "execution_count": 135,
   "metadata": {},
   "outputs": [
    {
     "name": "stdout",
     "output_type": "stream",
     "text": [
      "Time to clean up everything: 0.97 mins\n"
     ]
    }
   ],
   "source": [
    "t = time()\n",
    "\n",
    "txt = [cleaning(doc) for doc in nlp.pipe(brief_cleaning, batch_size=5000, n_threads=-1)]\n",
    "\n",
    "print('Time to clean up everything: {} mins'.format(round((time() - t) / 60, 2)))"
   ]
  },
  {
   "cell_type": "code",
   "execution_count": 137,
   "metadata": {},
   "outputs": [
    {
     "data": {
      "text/plain": [
       "(85964, 1)"
      ]
     },
     "execution_count": 137,
     "metadata": {},
     "output_type": "execute_result"
    }
   ],
   "source": [
    "df_clean = pd.DataFrame({'clean': txt})\n",
    "df_clean = df_clean.dropna().drop_duplicates()\n",
    "df_clean.shape"
   ]
  },
  {
   "cell_type": "code",
   "execution_count": 138,
   "metadata": {},
   "outputs": [],
   "source": [
    "from gensim.models.phrases import Phrases, Phraser"
   ]
  },
  {
   "cell_type": "code",
   "execution_count": 139,
   "metadata": {},
   "outputs": [],
   "source": [
    "sent = [row.split() for row in df_clean['clean']]"
   ]
  },
  {
   "cell_type": "code",
   "execution_count": 140,
   "metadata": {
    "scrolled": true
   },
   "outputs": [
    {
     "name": "stderr",
     "output_type": "stream",
     "text": [
      "INFO - 16:37:34: collecting all words and their counts\n",
      "INFO - 16:37:34: PROGRESS: at sentence #0, processed 0 words and 0 word types\n",
      "INFO - 16:37:34: PROGRESS: at sentence #10000, processed 63561 words and 52816 word types\n",
      "INFO - 16:37:34: PROGRESS: at sentence #20000, processed 130943 words and 99866 word types\n",
      "INFO - 16:37:34: PROGRESS: at sentence #30000, processed 192972 words and 138532 word types\n",
      "INFO - 16:37:35: PROGRESS: at sentence #40000, processed 249842 words and 172659 word types\n",
      "INFO - 16:37:35: PROGRESS: at sentence #50000, processed 311265 words and 208566 word types\n",
      "INFO - 16:37:35: PROGRESS: at sentence #60000, processed 373588 words and 243702 word types\n",
      "INFO - 16:37:35: PROGRESS: at sentence #70000, processed 436441 words and 278740 word types\n",
      "INFO - 16:37:35: PROGRESS: at sentence #80000, processed 497829 words and 311886 word types\n",
      "INFO - 16:37:35: collected 330804 word types from a corpus of 537160 words (unigram + bigrams) and 85964 sentences\n",
      "INFO - 16:37:35: using 330804 counts as vocab in Phrases<0 vocab, min_count=30, threshold=10.0, max_vocab_size=40000000>\n"
     ]
    }
   ],
   "source": [
    "phrases = Phrases(sent, min_count=30, progress_per=10000)"
   ]
  },
  {
   "cell_type": "code",
   "execution_count": 141,
   "metadata": {},
   "outputs": [
    {
     "name": "stderr",
     "output_type": "stream",
     "text": [
      "INFO - 16:37:47: source_vocab length 330804\n",
      "INFO - 16:37:49: Phraser built with 126 phrasegrams\n"
     ]
    }
   ],
   "source": [
    "bigram = Phraser(phrases)\n",
    "sentences = bigram[sent]"
   ]
  },
  {
   "cell_type": "code",
   "execution_count": 142,
   "metadata": {},
   "outputs": [
    {
     "data": {
      "text/plain": [
       "30178"
      ]
     },
     "execution_count": 142,
     "metadata": {},
     "output_type": "execute_result"
    }
   ],
   "source": [
    "word_freq = defaultdict(int)\n",
    "for sent in sentences:\n",
    "    for i in sent:\n",
    "        word_freq[i] += 1\n",
    "len(word_freq)"
   ]
  },
  {
   "cell_type": "code",
   "execution_count": 143,
   "metadata": {},
   "outputs": [
    {
     "data": {
      "text/plain": [
       "['oh', 'like', 'know', 'get', 'hey', 'think', 'right', 'look', 'want', 'come']"
      ]
     },
     "execution_count": 143,
     "metadata": {},
     "output_type": "execute_result"
    }
   ],
   "source": [
    "sorted(word_freq, key=word_freq.get, reverse=True)[:10]"
   ]
  },
  {
   "cell_type": "code",
   "execution_count": 144,
   "metadata": {},
   "outputs": [],
   "source": [
    "import multiprocessing\n",
    "\n",
    "from gensim.models import Word2Vec"
   ]
  },
  {
   "cell_type": "code",
   "execution_count": 145,
   "metadata": {},
   "outputs": [],
   "source": [
    "cores = multiprocessing.cpu_count() # Count the number of cores in a computer"
   ]
  },
  {
   "cell_type": "code",
   "execution_count": 146,
   "metadata": {},
   "outputs": [],
   "source": [
    "w2v_model = Word2Vec(min_count=20,\n",
    "                     window=2,\n",
    "                     size=300,\n",
    "                     sample=6e-5, \n",
    "                     alpha=0.03, \n",
    "                     min_alpha=0.0007, \n",
    "                     negative=20,\n",
    "                     workers=cores-1)"
   ]
  },
  {
   "cell_type": "code",
   "execution_count": 149,
   "metadata": {},
   "outputs": [
    {
     "name": "stderr",
     "output_type": "stream",
     "text": [
      "INFO - 16:38:32: collecting all words and their counts\n",
      "INFO - 16:38:32: PROGRESS: at sentence #0, processed 0 words, keeping 0 word types\n",
      "INFO - 16:38:32: PROGRESS: at sentence #10000, processed 61718 words, keeping 9558 word types\n",
      "INFO - 16:38:32: PROGRESS: at sentence #20000, processed 127351 words, keeping 14506 word types\n",
      "INFO - 16:38:33: PROGRESS: at sentence #30000, processed 187829 words, keeping 17619 word types\n",
      "INFO - 16:38:33: PROGRESS: at sentence #40000, processed 243332 words, keeping 20385 word types\n",
      "INFO - 16:38:33: PROGRESS: at sentence #50000, processed 303182 words, keeping 22878 word types\n",
      "INFO - 16:38:33: PROGRESS: at sentence #60000, processed 363940 words, keeping 25200 word types\n",
      "INFO - 16:38:33: PROGRESS: at sentence #70000, processed 425408 words, keeping 27401 word types\n",
      "INFO - 16:38:33: PROGRESS: at sentence #80000, processed 485464 words, keeping 29275 word types\n",
      "INFO - 16:38:33: collected 30178 word types from a corpus of 523700 raw words and 85964 sentences\n",
      "INFO - 16:38:33: Loading a fresh vocabulary\n",
      "INFO - 16:38:33: effective_min_count=20 retains 3319 unique words (10% of original 30178, drops 26859)\n",
      "INFO - 16:38:33: effective_min_count=20 leaves 437324 word corpus (83% of original 523700, drops 86376)\n",
      "INFO - 16:38:33: deleting the raw counts dictionary of 30178 items\n",
      "INFO - 16:38:33: sample=6e-05 downsamples 1200 most-common words\n",
      "INFO - 16:38:33: downsampling leaves estimated 199161 word corpus (45.5% of prior 437324)\n",
      "INFO - 16:38:33: estimated required memory for 3319 words and 300 dimensions: 9625100 bytes\n",
      "INFO - 16:38:33: resetting layer weights\n"
     ]
    },
    {
     "name": "stdout",
     "output_type": "stream",
     "text": [
      "Time to build vocab: 0.03 mins\n"
     ]
    }
   ],
   "source": [
    "t = time()\n",
    "\n",
    "w2v_model.build_vocab(sentences, progress_per=10000)\n",
    "\n",
    "print('Time to build vocab: {} mins'.format(round((time() - t) / 60, 2)))"
   ]
  },
  {
   "cell_type": "code",
   "execution_count": 150,
   "metadata": {},
   "outputs": [
    {
     "name": "stderr",
     "output_type": "stream",
     "text": [
      "INFO - 16:38:34: training model with 7 workers on 3319 vocabulary and 300 features, using sg=0 hs=0 sample=6e-05 negative=20 window=2\n",
      "INFO - 16:38:35: EPOCH 1 - PROGRESS: at 72.83% examples, 144001 words/s, in_qsize 0, out_qsize 0\n",
      "INFO - 16:38:35: worker thread finished; awaiting finish of 6 more threads\n",
      "INFO - 16:38:35: worker thread finished; awaiting finish of 5 more threads\n",
      "INFO - 16:38:35: worker thread finished; awaiting finish of 4 more threads\n",
      "INFO - 16:38:35: worker thread finished; awaiting finish of 3 more threads\n",
      "INFO - 16:38:35: worker thread finished; awaiting finish of 2 more threads\n",
      "INFO - 16:38:35: worker thread finished; awaiting finish of 1 more threads\n",
      "INFO - 16:38:35: worker thread finished; awaiting finish of 0 more threads\n",
      "INFO - 16:38:35: EPOCH - 1 : training on 523700 raw words (198820 effective words) took 1.3s, 147461 effective words/s\n",
      "INFO - 16:38:36: EPOCH 2 - PROGRESS: at 72.83% examples, 143185 words/s, in_qsize 0, out_qsize 0\n",
      "INFO - 16:38:37: worker thread finished; awaiting finish of 6 more threads\n",
      "INFO - 16:38:37: worker thread finished; awaiting finish of 5 more threads\n",
      "INFO - 16:38:37: worker thread finished; awaiting finish of 4 more threads\n",
      "INFO - 16:38:37: worker thread finished; awaiting finish of 3 more threads\n",
      "INFO - 16:38:37: worker thread finished; awaiting finish of 2 more threads\n",
      "INFO - 16:38:37: worker thread finished; awaiting finish of 1 more threads\n",
      "INFO - 16:38:37: worker thread finished; awaiting finish of 0 more threads\n",
      "INFO - 16:38:37: EPOCH - 2 : training on 523700 raw words (199218 effective words) took 1.6s, 126297 effective words/s\n",
      "INFO - 16:38:38: EPOCH 3 - PROGRESS: at 72.83% examples, 144228 words/s, in_qsize 0, out_qsize 0\n",
      "INFO - 16:38:38: worker thread finished; awaiting finish of 6 more threads\n",
      "INFO - 16:38:38: worker thread finished; awaiting finish of 5 more threads\n",
      "INFO - 16:38:38: worker thread finished; awaiting finish of 4 more threads\n",
      "INFO - 16:38:38: worker thread finished; awaiting finish of 3 more threads\n",
      "INFO - 16:38:38: worker thread finished; awaiting finish of 2 more threads\n",
      "INFO - 16:38:38: worker thread finished; awaiting finish of 1 more threads\n",
      "INFO - 16:38:38: worker thread finished; awaiting finish of 0 more threads\n",
      "INFO - 16:38:38: EPOCH - 3 : training on 523700 raw words (199222 effective words) took 1.3s, 147693 effective words/s\n",
      "INFO - 16:38:39: EPOCH 4 - PROGRESS: at 72.83% examples, 143642 words/s, in_qsize 0, out_qsize 0\n",
      "INFO - 16:38:40: worker thread finished; awaiting finish of 6 more threads\n",
      "INFO - 16:38:40: worker thread finished; awaiting finish of 5 more threads\n",
      "INFO - 16:38:40: worker thread finished; awaiting finish of 4 more threads\n",
      "INFO - 16:38:40: worker thread finished; awaiting finish of 3 more threads\n",
      "INFO - 16:38:40: worker thread finished; awaiting finish of 2 more threads\n",
      "INFO - 16:38:40: worker thread finished; awaiting finish of 1 more threads\n",
      "INFO - 16:38:40: worker thread finished; awaiting finish of 0 more threads\n",
      "INFO - 16:38:40: EPOCH - 4 : training on 523700 raw words (199150 effective words) took 1.4s, 146839 effective words/s\n",
      "INFO - 16:38:41: EPOCH 5 - PROGRESS: at 72.83% examples, 143757 words/s, in_qsize 0, out_qsize 0\n",
      "INFO - 16:38:41: worker thread finished; awaiting finish of 6 more threads\n",
      "INFO - 16:38:41: worker thread finished; awaiting finish of 5 more threads\n",
      "INFO - 16:38:41: worker thread finished; awaiting finish of 4 more threads\n",
      "INFO - 16:38:41: worker thread finished; awaiting finish of 3 more threads\n",
      "INFO - 16:38:41: worker thread finished; awaiting finish of 2 more threads\n",
      "INFO - 16:38:41: worker thread finished; awaiting finish of 1 more threads\n",
      "INFO - 16:38:41: worker thread finished; awaiting finish of 0 more threads\n",
      "INFO - 16:38:41: EPOCH - 5 : training on 523700 raw words (199540 effective words) took 1.6s, 127171 effective words/s\n",
      "INFO - 16:38:42: EPOCH 6 - PROGRESS: at 70.95% examples, 139028 words/s, in_qsize 0, out_qsize 0\n",
      "INFO - 16:38:42: worker thread finished; awaiting finish of 6 more threads\n",
      "INFO - 16:38:42: worker thread finished; awaiting finish of 5 more threads\n",
      "INFO - 16:38:42: worker thread finished; awaiting finish of 4 more threads\n",
      "INFO - 16:38:42: worker thread finished; awaiting finish of 3 more threads\n",
      "INFO - 16:38:42: worker thread finished; awaiting finish of 2 more threads\n",
      "INFO - 16:38:42: worker thread finished; awaiting finish of 1 more threads\n",
      "INFO - 16:38:42: worker thread finished; awaiting finish of 0 more threads\n",
      "INFO - 16:38:42: EPOCH - 6 : training on 523700 raw words (199462 effective words) took 1.4s, 144034 effective words/s\n",
      "INFO - 16:38:44: EPOCH 7 - PROGRESS: at 69.05% examples, 133271 words/s, in_qsize 0, out_qsize 0\n",
      "INFO - 16:38:44: worker thread finished; awaiting finish of 6 more threads\n",
      "INFO - 16:38:44: worker thread finished; awaiting finish of 5 more threads\n",
      "INFO - 16:38:44: worker thread finished; awaiting finish of 4 more threads\n",
      "INFO - 16:38:44: worker thread finished; awaiting finish of 3 more threads\n",
      "INFO - 16:38:44: worker thread finished; awaiting finish of 2 more threads\n",
      "INFO - 16:38:44: worker thread finished; awaiting finish of 1 more threads\n",
      "INFO - 16:38:44: worker thread finished; awaiting finish of 0 more threads\n",
      "INFO - 16:38:44: EPOCH - 7 : training on 523700 raw words (199000 effective words) took 1.4s, 140012 effective words/s\n",
      "INFO - 16:38:45: EPOCH 8 - PROGRESS: at 67.17% examples, 130875 words/s, in_qsize 0, out_qsize 0\n",
      "INFO - 16:38:46: worker thread finished; awaiting finish of 6 more threads\n",
      "INFO - 16:38:46: worker thread finished; awaiting finish of 5 more threads\n",
      "INFO - 16:38:46: worker thread finished; awaiting finish of 4 more threads\n",
      "INFO - 16:38:46: worker thread finished; awaiting finish of 3 more threads\n",
      "INFO - 16:38:46: worker thread finished; awaiting finish of 2 more threads\n",
      "INFO - 16:38:46: worker thread finished; awaiting finish of 1 more threads\n",
      "INFO - 16:38:46: worker thread finished; awaiting finish of 0 more threads\n",
      "INFO - 16:38:46: EPOCH - 8 : training on 523700 raw words (199266 effective words) took 1.7s, 117316 effective words/s\n",
      "INFO - 16:38:47: EPOCH 9 - PROGRESS: at 70.95% examples, 137581 words/s, in_qsize 0, out_qsize 0\n",
      "INFO - 16:38:47: worker thread finished; awaiting finish of 6 more threads\n",
      "INFO - 16:38:47: worker thread finished; awaiting finish of 5 more threads\n",
      "INFO - 16:38:47: worker thread finished; awaiting finish of 4 more threads\n",
      "INFO - 16:38:47: worker thread finished; awaiting finish of 3 more threads\n",
      "INFO - 16:38:47: worker thread finished; awaiting finish of 2 more threads\n",
      "INFO - 16:38:47: worker thread finished; awaiting finish of 1 more threads\n",
      "INFO - 16:38:47: worker thread finished; awaiting finish of 0 more threads\n",
      "INFO - 16:38:47: EPOCH - 9 : training on 523700 raw words (199201 effective words) took 1.4s, 142546 effective words/s\n",
      "INFO - 16:38:48: EPOCH 10 - PROGRESS: at 69.05% examples, 136298 words/s, in_qsize 0, out_qsize 0\n",
      "INFO - 16:38:48: worker thread finished; awaiting finish of 6 more threads\n",
      "INFO - 16:38:48: worker thread finished; awaiting finish of 5 more threads\n",
      "INFO - 16:38:48: worker thread finished; awaiting finish of 4 more threads\n",
      "INFO - 16:38:48: worker thread finished; awaiting finish of 3 more threads\n",
      "INFO - 16:38:48: worker thread finished; awaiting finish of 2 more threads\n",
      "INFO - 16:38:48: worker thread finished; awaiting finish of 1 more threads\n",
      "INFO - 16:38:48: worker thread finished; awaiting finish of 0 more threads\n",
      "INFO - 16:38:48: EPOCH - 10 : training on 523700 raw words (199075 effective words) took 1.4s, 143430 effective words/s\n",
      "INFO - 16:38:49: EPOCH 11 - PROGRESS: at 72.83% examples, 142427 words/s, in_qsize 0, out_qsize 0\n",
      "INFO - 16:38:50: worker thread finished; awaiting finish of 6 more threads\n",
      "INFO - 16:38:50: worker thread finished; awaiting finish of 5 more threads\n",
      "INFO - 16:38:50: worker thread finished; awaiting finish of 4 more threads\n",
      "INFO - 16:38:50: worker thread finished; awaiting finish of 3 more threads\n",
      "INFO - 16:38:50: worker thread finished; awaiting finish of 2 more threads\n",
      "INFO - 16:38:50: worker thread finished; awaiting finish of 1 more threads\n",
      "INFO - 16:38:50: worker thread finished; awaiting finish of 0 more threads\n",
      "INFO - 16:38:50: EPOCH - 11 : training on 523700 raw words (199385 effective words) took 1.4s, 146600 effective words/s\n"
     ]
    },
    {
     "name": "stderr",
     "output_type": "stream",
     "text": [
      "INFO - 16:38:51: EPOCH 12 - PROGRESS: at 51.79% examples, 100745 words/s, in_qsize 0, out_qsize 0\n",
      "INFO - 16:38:51: worker thread finished; awaiting finish of 6 more threads\n",
      "INFO - 16:38:51: worker thread finished; awaiting finish of 5 more threads\n",
      "INFO - 16:38:51: worker thread finished; awaiting finish of 4 more threads\n",
      "INFO - 16:38:51: worker thread finished; awaiting finish of 3 more threads\n",
      "INFO - 16:38:51: worker thread finished; awaiting finish of 2 more threads\n",
      "INFO - 16:38:51: worker thread finished; awaiting finish of 1 more threads\n",
      "INFO - 16:38:51: worker thread finished; awaiting finish of 0 more threads\n",
      "INFO - 16:38:51: EPOCH - 12 : training on 523700 raw words (198819 effective words) took 1.6s, 120703 effective words/s\n",
      "INFO - 16:38:52: EPOCH 13 - PROGRESS: at 69.05% examples, 136544 words/s, in_qsize 0, out_qsize 0\n",
      "INFO - 16:38:53: worker thread finished; awaiting finish of 6 more threads\n",
      "INFO - 16:38:53: worker thread finished; awaiting finish of 5 more threads\n",
      "INFO - 16:38:53: worker thread finished; awaiting finish of 4 more threads\n",
      "INFO - 16:38:53: worker thread finished; awaiting finish of 3 more threads\n",
      "INFO - 16:38:53: worker thread finished; awaiting finish of 2 more threads\n",
      "INFO - 16:38:53: worker thread finished; awaiting finish of 1 more threads\n",
      "INFO - 16:38:53: worker thread finished; awaiting finish of 0 more threads\n",
      "INFO - 16:38:53: EPOCH - 13 : training on 523700 raw words (199107 effective words) took 1.4s, 140638 effective words/s\n",
      "INFO - 16:38:54: EPOCH 14 - PROGRESS: at 70.95% examples, 139906 words/s, in_qsize 0, out_qsize 0\n",
      "INFO - 16:38:54: worker thread finished; awaiting finish of 6 more threads\n",
      "INFO - 16:38:54: worker thread finished; awaiting finish of 5 more threads\n",
      "INFO - 16:38:54: worker thread finished; awaiting finish of 4 more threads\n",
      "INFO - 16:38:54: worker thread finished; awaiting finish of 3 more threads\n",
      "INFO - 16:38:54: worker thread finished; awaiting finish of 2 more threads\n",
      "INFO - 16:38:54: worker thread finished; awaiting finish of 1 more threads\n",
      "INFO - 16:38:54: worker thread finished; awaiting finish of 0 more threads\n",
      "INFO - 16:38:54: EPOCH - 14 : training on 523700 raw words (199018 effective words) took 1.4s, 143192 effective words/s\n",
      "INFO - 16:38:55: EPOCH 15 - PROGRESS: at 65.21% examples, 113291 words/s, in_qsize 0, out_qsize 0\n",
      "INFO - 16:38:56: worker thread finished; awaiting finish of 6 more threads\n",
      "INFO - 16:38:56: worker thread finished; awaiting finish of 5 more threads\n",
      "INFO - 16:38:56: worker thread finished; awaiting finish of 4 more threads\n",
      "INFO - 16:38:56: worker thread finished; awaiting finish of 3 more threads\n",
      "INFO - 16:38:56: worker thread finished; awaiting finish of 2 more threads\n",
      "INFO - 16:38:56: worker thread finished; awaiting finish of 1 more threads\n",
      "INFO - 16:38:56: worker thread finished; awaiting finish of 0 more threads\n",
      "INFO - 16:38:56: EPOCH - 15 : training on 523700 raw words (199635 effective words) took 1.6s, 124701 effective words/s\n",
      "INFO - 16:38:57: EPOCH 16 - PROGRESS: at 70.95% examples, 139926 words/s, in_qsize 0, out_qsize 0\n",
      "INFO - 16:38:57: worker thread finished; awaiting finish of 6 more threads\n",
      "INFO - 16:38:57: worker thread finished; awaiting finish of 5 more threads\n",
      "INFO - 16:38:57: worker thread finished; awaiting finish of 4 more threads\n",
      "INFO - 16:38:57: worker thread finished; awaiting finish of 3 more threads\n",
      "INFO - 16:38:57: worker thread finished; awaiting finish of 2 more threads\n",
      "INFO - 16:38:57: worker thread finished; awaiting finish of 1 more threads\n",
      "INFO - 16:38:57: worker thread finished; awaiting finish of 0 more threads\n",
      "INFO - 16:38:57: EPOCH - 16 : training on 523700 raw words (199205 effective words) took 1.4s, 144109 effective words/s\n",
      "INFO - 16:38:58: EPOCH 17 - PROGRESS: at 70.95% examples, 139611 words/s, in_qsize 0, out_qsize 0\n",
      "INFO - 16:38:59: worker thread finished; awaiting finish of 6 more threads\n",
      "INFO - 16:38:59: worker thread finished; awaiting finish of 5 more threads\n",
      "INFO - 16:38:59: worker thread finished; awaiting finish of 4 more threads\n",
      "INFO - 16:38:59: worker thread finished; awaiting finish of 3 more threads\n",
      "INFO - 16:38:59: worker thread finished; awaiting finish of 2 more threads\n",
      "INFO - 16:38:59: worker thread finished; awaiting finish of 1 more threads\n",
      "INFO - 16:38:59: worker thread finished; awaiting finish of 0 more threads\n",
      "INFO - 16:38:59: EPOCH - 17 : training on 523700 raw words (199196 effective words) took 1.4s, 144308 effective words/s\n",
      "INFO - 16:39:00: EPOCH 18 - PROGRESS: at 57.54% examples, 110735 words/s, in_qsize 1, out_qsize 0\n",
      "INFO - 16:39:00: worker thread finished; awaiting finish of 6 more threads\n",
      "INFO - 16:39:00: worker thread finished; awaiting finish of 5 more threads\n",
      "INFO - 16:39:00: worker thread finished; awaiting finish of 4 more threads\n",
      "INFO - 16:39:00: worker thread finished; awaiting finish of 3 more threads\n",
      "INFO - 16:39:00: worker thread finished; awaiting finish of 2 more threads\n",
      "INFO - 16:39:00: worker thread finished; awaiting finish of 1 more threads\n",
      "INFO - 16:39:00: worker thread finished; awaiting finish of 0 more threads\n",
      "INFO - 16:39:00: EPOCH - 18 : training on 523700 raw words (199097 effective words) took 1.6s, 124711 effective words/s\n",
      "INFO - 16:39:01: EPOCH 19 - PROGRESS: at 69.05% examples, 134933 words/s, in_qsize 0, out_qsize 0\n",
      "INFO - 16:39:02: worker thread finished; awaiting finish of 6 more threads\n",
      "INFO - 16:39:02: worker thread finished; awaiting finish of 5 more threads\n",
      "INFO - 16:39:02: worker thread finished; awaiting finish of 4 more threads\n",
      "INFO - 16:39:02: worker thread finished; awaiting finish of 3 more threads\n",
      "INFO - 16:39:02: worker thread finished; awaiting finish of 2 more threads\n",
      "INFO - 16:39:02: worker thread finished; awaiting finish of 1 more threads\n",
      "INFO - 16:39:02: worker thread finished; awaiting finish of 0 more threads\n",
      "INFO - 16:39:02: EPOCH - 19 : training on 523700 raw words (199697 effective words) took 1.4s, 140432 effective words/s\n",
      "INFO - 16:39:03: EPOCH 20 - PROGRESS: at 69.05% examples, 136274 words/s, in_qsize 0, out_qsize 0\n",
      "INFO - 16:39:03: worker thread finished; awaiting finish of 6 more threads\n",
      "INFO - 16:39:03: worker thread finished; awaiting finish of 5 more threads\n",
      "INFO - 16:39:03: worker thread finished; awaiting finish of 4 more threads\n",
      "INFO - 16:39:03: worker thread finished; awaiting finish of 3 more threads\n",
      "INFO - 16:39:03: worker thread finished; awaiting finish of 2 more threads\n",
      "INFO - 16:39:03: worker thread finished; awaiting finish of 1 more threads\n",
      "INFO - 16:39:03: worker thread finished; awaiting finish of 0 more threads\n",
      "INFO - 16:39:03: EPOCH - 20 : training on 523700 raw words (199491 effective words) took 1.4s, 141338 effective words/s\n",
      "INFO - 16:39:04: EPOCH 21 - PROGRESS: at 55.67% examples, 106715 words/s, in_qsize 0, out_qsize 0\n",
      "INFO - 16:39:05: worker thread finished; awaiting finish of 6 more threads\n",
      "INFO - 16:39:05: worker thread finished; awaiting finish of 5 more threads\n",
      "INFO - 16:39:05: worker thread finished; awaiting finish of 4 more threads\n",
      "INFO - 16:39:05: worker thread finished; awaiting finish of 3 more threads\n",
      "INFO - 16:39:05: worker thread finished; awaiting finish of 2 more threads\n",
      "INFO - 16:39:05: worker thread finished; awaiting finish of 1 more threads\n",
      "INFO - 16:39:05: worker thread finished; awaiting finish of 0 more threads\n",
      "INFO - 16:39:05: EPOCH - 21 : training on 523700 raw words (198582 effective words) took 1.6s, 122722 effective words/s\n",
      "INFO - 16:39:06: EPOCH 22 - PROGRESS: at 70.95% examples, 139081 words/s, in_qsize 0, out_qsize 0\n",
      "INFO - 16:39:06: worker thread finished; awaiting finish of 6 more threads\n",
      "INFO - 16:39:06: worker thread finished; awaiting finish of 5 more threads\n",
      "INFO - 16:39:06: worker thread finished; awaiting finish of 4 more threads\n",
      "INFO - 16:39:06: worker thread finished; awaiting finish of 3 more threads\n",
      "INFO - 16:39:06: worker thread finished; awaiting finish of 2 more threads\n",
      "INFO - 16:39:06: worker thread finished; awaiting finish of 1 more threads\n",
      "INFO - 16:39:06: worker thread finished; awaiting finish of 0 more threads\n",
      "INFO - 16:39:06: EPOCH - 22 : training on 523700 raw words (199255 effective words) took 1.4s, 144102 effective words/s\n",
      "INFO - 16:39:07: EPOCH 23 - PROGRESS: at 70.95% examples, 140281 words/s, in_qsize 0, out_qsize 0\n"
     ]
    },
    {
     "name": "stderr",
     "output_type": "stream",
     "text": [
      "INFO - 16:39:08: worker thread finished; awaiting finish of 6 more threads\n",
      "INFO - 16:39:08: worker thread finished; awaiting finish of 5 more threads\n",
      "INFO - 16:39:08: worker thread finished; awaiting finish of 4 more threads\n",
      "INFO - 16:39:08: worker thread finished; awaiting finish of 3 more threads\n",
      "INFO - 16:39:08: worker thread finished; awaiting finish of 2 more threads\n",
      "INFO - 16:39:08: worker thread finished; awaiting finish of 1 more threads\n",
      "INFO - 16:39:08: worker thread finished; awaiting finish of 0 more threads\n",
      "INFO - 16:39:08: EPOCH - 23 : training on 523700 raw words (199012 effective words) took 1.4s, 143466 effective words/s\n",
      "INFO - 16:39:09: EPOCH 24 - PROGRESS: at 72.83% examples, 141523 words/s, in_qsize 0, out_qsize 0\n",
      "INFO - 16:39:09: worker thread finished; awaiting finish of 6 more threads\n",
      "INFO - 16:39:09: worker thread finished; awaiting finish of 5 more threads\n",
      "INFO - 16:39:09: worker thread finished; awaiting finish of 4 more threads\n",
      "INFO - 16:39:09: worker thread finished; awaiting finish of 3 more threads\n",
      "INFO - 16:39:09: worker thread finished; awaiting finish of 2 more threads\n",
      "INFO - 16:39:09: worker thread finished; awaiting finish of 1 more threads\n",
      "INFO - 16:39:09: worker thread finished; awaiting finish of 0 more threads\n",
      "INFO - 16:39:09: EPOCH - 24 : training on 523700 raw words (198827 effective words) took 1.6s, 126102 effective words/s\n",
      "INFO - 16:39:10: EPOCH 25 - PROGRESS: at 70.95% examples, 139771 words/s, in_qsize 0, out_qsize 0\n",
      "INFO - 16:39:10: worker thread finished; awaiting finish of 6 more threads\n",
      "INFO - 16:39:10: worker thread finished; awaiting finish of 5 more threads\n",
      "INFO - 16:39:10: worker thread finished; awaiting finish of 4 more threads\n",
      "INFO - 16:39:10: worker thread finished; awaiting finish of 3 more threads\n",
      "INFO - 16:39:10: worker thread finished; awaiting finish of 2 more threads\n",
      "INFO - 16:39:10: worker thread finished; awaiting finish of 1 more threads\n",
      "INFO - 16:39:10: worker thread finished; awaiting finish of 0 more threads\n",
      "INFO - 16:39:10: EPOCH - 25 : training on 523700 raw words (199315 effective words) took 1.4s, 145697 effective words/s\n",
      "INFO - 16:39:12: EPOCH 26 - PROGRESS: at 72.83% examples, 140565 words/s, in_qsize 0, out_qsize 0\n",
      "INFO - 16:39:12: worker thread finished; awaiting finish of 6 more threads\n",
      "INFO - 16:39:12: worker thread finished; awaiting finish of 5 more threads\n",
      "INFO - 16:39:12: worker thread finished; awaiting finish of 4 more threads\n",
      "INFO - 16:39:12: worker thread finished; awaiting finish of 3 more threads\n",
      "INFO - 16:39:12: worker thread finished; awaiting finish of 2 more threads\n",
      "INFO - 16:39:12: worker thread finished; awaiting finish of 1 more threads\n",
      "INFO - 16:39:12: worker thread finished; awaiting finish of 0 more threads\n",
      "INFO - 16:39:12: EPOCH - 26 : training on 523700 raw words (199170 effective words) took 1.4s, 145706 effective words/s\n",
      "INFO - 16:39:13: EPOCH 27 - PROGRESS: at 63.30% examples, 112548 words/s, in_qsize 0, out_qsize 1\n",
      "INFO - 16:39:13: worker thread finished; awaiting finish of 6 more threads\n",
      "INFO - 16:39:13: worker thread finished; awaiting finish of 5 more threads\n",
      "INFO - 16:39:13: worker thread finished; awaiting finish of 4 more threads\n",
      "INFO - 16:39:13: worker thread finished; awaiting finish of 3 more threads\n",
      "INFO - 16:39:13: worker thread finished; awaiting finish of 2 more threads\n",
      "INFO - 16:39:13: worker thread finished; awaiting finish of 1 more threads\n",
      "INFO - 16:39:13: worker thread finished; awaiting finish of 0 more threads\n",
      "INFO - 16:39:13: EPOCH - 27 : training on 523700 raw words (199503 effective words) took 1.6s, 126138 effective words/s\n",
      "INFO - 16:39:14: EPOCH 28 - PROGRESS: at 72.83% examples, 142058 words/s, in_qsize 0, out_qsize 0\n",
      "INFO - 16:39:15: worker thread finished; awaiting finish of 6 more threads\n",
      "INFO - 16:39:15: worker thread finished; awaiting finish of 5 more threads\n",
      "INFO - 16:39:15: worker thread finished; awaiting finish of 4 more threads\n",
      "INFO - 16:39:15: worker thread finished; awaiting finish of 3 more threads\n",
      "INFO - 16:39:15: worker thread finished; awaiting finish of 2 more threads\n",
      "INFO - 16:39:15: worker thread finished; awaiting finish of 1 more threads\n",
      "INFO - 16:39:15: worker thread finished; awaiting finish of 0 more threads\n",
      "INFO - 16:39:15: EPOCH - 28 : training on 523700 raw words (199304 effective words) took 1.4s, 145898 effective words/s\n",
      "INFO - 16:39:16: EPOCH 29 - PROGRESS: at 72.83% examples, 142783 words/s, in_qsize 0, out_qsize 0\n",
      "INFO - 16:39:16: worker thread finished; awaiting finish of 6 more threads\n",
      "INFO - 16:39:16: worker thread finished; awaiting finish of 5 more threads\n",
      "INFO - 16:39:16: worker thread finished; awaiting finish of 4 more threads\n",
      "INFO - 16:39:16: worker thread finished; awaiting finish of 3 more threads\n",
      "INFO - 16:39:16: worker thread finished; awaiting finish of 2 more threads\n",
      "INFO - 16:39:16: worker thread finished; awaiting finish of 1 more threads\n",
      "INFO - 16:39:16: worker thread finished; awaiting finish of 0 more threads\n",
      "INFO - 16:39:16: EPOCH - 29 : training on 523700 raw words (199329 effective words) took 1.4s, 147492 effective words/s\n",
      "INFO - 16:39:17: EPOCH 30 - PROGRESS: at 57.54% examples, 108533 words/s, in_qsize 0, out_qsize 0\n",
      "INFO - 16:39:18: worker thread finished; awaiting finish of 6 more threads\n",
      "INFO - 16:39:18: worker thread finished; awaiting finish of 5 more threads\n",
      "INFO - 16:39:18: worker thread finished; awaiting finish of 4 more threads\n",
      "INFO - 16:39:18: worker thread finished; awaiting finish of 3 more threads\n",
      "INFO - 16:39:18: worker thread finished; awaiting finish of 2 more threads\n",
      "INFO - 16:39:18: worker thread finished; awaiting finish of 1 more threads\n",
      "INFO - 16:39:18: worker thread finished; awaiting finish of 0 more threads\n",
      "INFO - 16:39:18: EPOCH - 30 : training on 523700 raw words (198902 effective words) took 1.6s, 123942 effective words/s\n",
      "INFO - 16:39:18: training on a 15711000 raw words (5975803 effective words) took 43.9s, 135987 effective words/s\n"
     ]
    },
    {
     "name": "stdout",
     "output_type": "stream",
     "text": [
      "Time to train the model: 0.73 mins\n"
     ]
    }
   ],
   "source": [
    "t = time()\n",
    "\n",
    "w2v_model.train(sentences, total_examples=w2v_model.corpus_count, epochs=30, report_delay=1)\n",
    "\n",
    "print('Time to train the model: {} mins'.format(round((time() - t) / 60, 2)))"
   ]
  },
  {
   "cell_type": "code",
   "execution_count": 152,
   "metadata": {},
   "outputs": [
    {
     "name": "stderr",
     "output_type": "stream",
     "text": [
      "INFO - 16:39:47: precomputing L2-norms of word weight vectors\n"
     ]
    }
   ],
   "source": [
    "w2v_model.init_sims(replace=True)"
   ]
  },
  {
   "cell_type": "code",
   "execution_count": 153,
   "metadata": {},
   "outputs": [
    {
     "data": {
      "text/plain": [
       "[('bongo', 0.7809368371963501),\n",
       " ('rude', 0.7662568092346191),\n",
       " ('snuggle', 0.7546795606613159),\n",
       " ('wife', 0.754002571105957),\n",
       " ('marge', 0.7491910457611084),\n",
       " ('worry', 0.7471033334732056),\n",
       " ('gee', 0.7467197179794312),\n",
       " ('sorry', 0.7448726892471313),\n",
       " ('sweetheart', 0.7395631074905396),\n",
       " ('embarrassing', 0.732292652130127)]"
      ]
     },
     "execution_count": 153,
     "metadata": {},
     "output_type": "execute_result"
    }
   ],
   "source": [
    "w2v_model.wv.most_similar(positive=[\"homer\"])"
   ]
  },
  {
   "cell_type": "code",
   "execution_count": 154,
   "metadata": {},
   "outputs": [
    {
     "data": {
      "text/plain": [
       "[('congratulation', 0.7786636352539062),\n",
       " ('recent', 0.7597939968109131),\n",
       " ('robert', 0.7473919987678528),\n",
       " ('fellow', 0.7473763227462769),\n",
       " ('council', 0.7468360662460327),\n",
       " ('pleased', 0.7430029511451721),\n",
       " ('hutz', 0.7418951988220215),\n",
       " ('governor', 0.7408850193023682),\n",
       " ('easily', 0.7401176691055298),\n",
       " ('waylon', 0.7353212833404541)]"
      ]
     },
     "execution_count": 154,
     "metadata": {},
     "output_type": "execute_result"
    }
   ],
   "source": [
    "w2v_model.wv.most_similar(positive=[\"homer_simpson\"])"
   ]
  },
  {
   "cell_type": "code",
   "execution_count": 155,
   "metadata": {},
   "outputs": [
    {
     "data": {
      "text/plain": [
       "[('convince', 0.7899131774902344),\n",
       " ('sorry', 0.7747074365615845),\n",
       " ('ralphie', 0.7577700614929199),\n",
       " ('arrange', 0.7569252252578735),\n",
       " ('attract', 0.7561854720115662),\n",
       " ('rude', 0.7553355693817139),\n",
       " ('raccoon', 0.7549102306365967),\n",
       " ('darling', 0.7538192272186279),\n",
       " ('forget', 0.75371253490448),\n",
       " ('brunch', 0.7520384788513184)]"
      ]
     },
     "execution_count": 155,
     "metadata": {},
     "output_type": "execute_result"
    }
   ],
   "source": [
    "w2v_model.wv.most_similar(positive=[\"marge\"])"
   ]
  },
  {
   "cell_type": "code",
   "execution_count": 156,
   "metadata": {},
   "outputs": [
    {
     "data": {
      "text/plain": [
       "[('lisa', 0.8376595377922058),\n",
       " ('mom', 0.7888587713241577),\n",
       " ('upset', 0.7870222926139832),\n",
       " ('homework', 0.7862677574157715),\n",
       " ('surprised', 0.7830692529678345),\n",
       " ('substitute', 0.7780249118804932),\n",
       " ('strangle', 0.7764168977737427),\n",
       " ('typical', 0.7753133773803711),\n",
       " ('convince', 0.772575855255127),\n",
       " ('mom_dad', 0.7679489254951477)]"
      ]
     },
     "execution_count": 156,
     "metadata": {},
     "output_type": "execute_result"
    }
   ],
   "source": [
    "w2v_model.wv.most_similar(positive=[\"bart\"])"
   ]
  },
  {
   "cell_type": "code",
   "execution_count": 159,
   "metadata": {},
   "outputs": [
    {
     "data": {
      "text/plain": [
       "0.8855369"
      ]
     },
     "execution_count": 159,
     "metadata": {},
     "output_type": "execute_result"
    }
   ],
   "source": [
    "w2v_model.wv.similarity(\"moe\", 'tavern')"
   ]
  },
  {
   "cell_type": "code",
   "execution_count": 160,
   "metadata": {},
   "outputs": [
    {
     "data": {
      "text/plain": [
       "0.654457"
      ]
     },
     "execution_count": 160,
     "metadata": {},
     "output_type": "execute_result"
    }
   ],
   "source": [
    "w2v_model.wv.similarity('bart', 'nelson')"
   ]
  },
  {
   "cell_type": "code",
   "execution_count": 161,
   "metadata": {},
   "outputs": [
    {
     "name": "stderr",
     "output_type": "stream",
     "text": [
      "WARNING - 16:40:45: vectors for words {'kearney'} are not present in the model, ignoring these words\n",
      "C:\\ProgramData\\Anaconda3\\lib\\site-packages\\gensim\\models\\keyedvectors.py:877: FutureWarning: arrays to stack must be passed as a \"sequence\" type such as list or tuple. Support for non-sequence iterables such as generators is deprecated as of NumPy 1.16 and will raise an error in the future.\n",
      "  vectors = vstack(self.word_vec(word, use_norm=True) for word in used_words).astype(REAL)\n"
     ]
    },
    {
     "data": {
      "text/plain": [
       "'milhouse'"
      ]
     },
     "execution_count": 161,
     "metadata": {},
     "output_type": "execute_result"
    }
   ],
   "source": [
    "w2v_model.wv.doesnt_match(['jimbo', 'milhouse', 'kearney'])"
   ]
  },
  {
   "cell_type": "code",
   "execution_count": 162,
   "metadata": {},
   "outputs": [
    {
     "data": {
      "text/plain": [
       "'nelson'"
      ]
     },
     "execution_count": 162,
     "metadata": {},
     "output_type": "execute_result"
    }
   ],
   "source": [
    "w2v_model.wv.doesnt_match([\"nelson\", \"bart\", \"milhouse\"])"
   ]
  },
  {
   "cell_type": "code",
   "execution_count": 172,
   "metadata": {},
   "outputs": [],
   "source": [
    "import numpy as np\n",
    "import matplotlib.pyplot as plt\n",
    "%matplotlib inline\n",
    " \n",
    "import seaborn as sns\n",
    "sns.set_style(\"darkgrid\")\n",
    "\n",
    "from sklearn.decomposition import PCA\n",
    "from sklearn.manifold import TSNE"
   ]
  },
  {
   "cell_type": "code",
   "execution_count": 176,
   "metadata": {},
   "outputs": [],
   "source": [
    "def tsnescatterplot(model, word, list_names):\n",
    "    \"\"\" Plot in seaborn the results from the t-SNE dimensionality reduction algorithm of the vectors of a query word,\n",
    "    its list of most similar words, and a list of words.\n",
    "    \"\"\"\n",
    "    arrays = np.empty((0, 300), dtype='f')\n",
    "    word_labels = [word]\n",
    "    color_list  = ['red']\n",
    "\n",
    "    # adds the vector of the query word\n",
    "    arrays = np.append(arrays, model.wv.__getitem__([word]), axis=0)\n",
    "    \n",
    "    # gets list of most similar words\n",
    "    close_words = model.wv.most_similar([word])\n",
    "    \n",
    "    # adds the vector for each of the closest words to the array\n",
    "    for wrd_score in close_words:\n",
    "        wrd_vector = model.wv.__getitem__([wrd_score[0]])\n",
    "        word_labels.append(wrd_score[0])\n",
    "        color_list.append('blue')\n",
    "        arrays = np.append(arrays, wrd_vector, axis=0)\n",
    "    \n",
    "    # adds the vector for each of the words from list_names to the array\n",
    "    for wrd in list_names:\n",
    "        wrd_vector = model.wv.__getitem__([wrd])\n",
    "        word_labels.append(wrd)\n",
    "        color_list.append('green')\n",
    "        arrays = np.append(arrays, wrd_vector, axis=0)\n",
    "        \n",
    "    # Reduces the dimensionality from 300 to 50 dimensions with PCA\n",
    "    reduc = PCA(n_components=12).fit_transform(arrays)\n",
    "    \n",
    "    # Finds t-SNE coordinates for 2 dimensions\n",
    "    np.set_printoptions(suppress=True)\n",
    "    \n",
    "    Y = TSNE(n_components=2, random_state=0, perplexity=15).fit_transform(reduc)\n",
    "    \n",
    "    # Sets everything up to plot\n",
    "    df = pd.DataFrame({'x': [x for x in Y[:, 0]],\n",
    "                       'y': [y for y in Y[:, 1]],\n",
    "                       'words': word_labels,\n",
    "                       'color': color_list})\n",
    "    \n",
    "    fig, _ = plt.subplots()\n",
    "    fig.set_size_inches(9, 9)\n",
    "    \n",
    "    # Basic plot\n",
    "    p1 = sns.regplot(data=df,\n",
    "                     x=\"x\",\n",
    "                     y=\"y\",\n",
    "                     fit_reg=False,\n",
    "                     marker=\"o\",\n",
    "                     scatter_kws={'s': 40,\n",
    "                                  'facecolors': df['color']\n",
    "                                 }\n",
    "                    )\n",
    "    \n",
    "    # Adds annotations one by one with a loop\n",
    "    for line in range(0, df.shape[0]):\n",
    "         p1.text(df[\"x\"][line],\n",
    "                 df['y'][line],\n",
    "                 '  ' + df[\"words\"][line].title(),\n",
    "                 horizontalalignment='left',\n",
    "                 verticalalignment='bottom', size='medium',\n",
    "                 color=df['color'][line],\n",
    "                 weight='normal'\n",
    "                ).set_size(15)\n",
    "\n",
    "    \n",
    "    plt.xlim(Y[:, 0].min()-50, Y[:, 0].max()+50)\n",
    "    plt.ylim(Y[:, 1].min()-50, Y[:, 1].max()+50)\n",
    "            \n",
    "    plt.title('t-SNE visualization for {}'.format(word.title()))\n",
    "    "
   ]
  },
  {
   "cell_type": "code",
   "execution_count": 177,
   "metadata": {},
   "outputs": [
    {
     "data": {
      "image/png": "[encoded data removed]",
      "text/plain": [
       "<Figure size 648x648 with 1 Axes>"
      ]
     },
     "metadata": {},
     "output_type": "display_data"
    }
   ],
   "source": [
    "tsnescatterplot(w2v_model, 'homer', ['dog', 'bird', 'ah', 'maude', 'bob', 'mel', 'apu', 'duff'])"
   ]
  },
  {
   "cell_type": "code",
   "execution_count": 178,
   "metadata": {},
   "outputs": [
    {
     "data": {
      "image/png": "[encoded data removed]",
      "text/plain": [
       "<Figure size 648x648 with 1 Axes>"
      ]
     },
     "metadata": {},
     "output_type": "display_data"
    }
   ],
   "source": [
    "tsnescatterplot(w2v_model, 'maggie', [i[0] for i in w2v_model.wv.most_similar(negative=[\"maggie\"])])"
   ]
  },
  {
   "cell_type": "code",
   "execution_count": 185,
   "metadata": {
    "scrolled": true
   },
   "outputs": [
    {
     "data": {
      "image/png": "[encoded data removed]",
      "text/plain": [
       "<Figure size 648x648 with 1 Axes>"
      ]
     },
     "metadata": {},
     "output_type": "display_data"
    }
   ],
   "source": [
    "tsnescatterplot(w2v_model, \"homer\", [t[0] for t in w2v_model.wv.most_similar(positive=[\"homer\"], topn=20)][10:])"
   ]
  },
  {
   "cell_type": "code",
   "execution_count": null,
   "metadata": {},
   "outputs": [],
   "source": []
  }
 ],
 "metadata": {
  "kernelspec": {
   "display_name": "Python 3",
   "language": "python",
   "name": "python3"
  },
  "language_info": {
   "codemirror_mode": {
    "name": "ipython",
    "version": 3
   },
   "file_extension": ".py",
   "mimetype": "text/x-python",
   "name": "python",
   "nbconvert_exporter": "python",
   "pygments_lexer": "ipython3",
   "version": "3.7.6"
  }
 },
 "nbformat": 4,
 "nbformat_minor": 4
}
